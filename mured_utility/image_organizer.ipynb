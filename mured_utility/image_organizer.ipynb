{
 "cells": [
  {
   "cell_type": "code",
   "execution_count": 7,
   "id": "84ced8b8-9d5d-4c65-94a7-bae00c6a96b3",
   "metadata": {},
   "outputs": [],
   "source": [
    "import os\n",
    "import shutil\n",
    "import pandas as pd\n",
    "\n",
    "train = pd.read_csv(\"train_data.csv\")\n",
    "val = pd.read_csv(\"val_data.csv\")\n",
    "df = pd.concat([train, val], ignore_index=True)\n",
    "# df\n",
    "\n",
    "# directory = os.path.abspath(\"pytorch-image-models/mured/images\")\n",
    "directory = os.path.abspath(\"images\")\n",
    "\n",
    "for filename in os.listdir(directory):\n",
    "    f = os.path.join(directory, filename)\n",
    "    if os.path.isfile(f):\n",
    "        # print(os.path.splitext(filename)[0])\n",
    "        trunc_name = os.path.splitext(filename)[0]\n",
    "        for idx, row in df.loc[df[\"ID\"] == trunc_name].iterrows():\n",
    "            lab = row[row == 1].sample(n=1).index[0]\n",
    "            # print(row[row == 1].index, \"\\t\\t\", lab, \"\\n\")\n",
    "            shutil.copy(f, os.path.join(os.path.abspath(str(lab)), filename))\n",
    "            # shutil.copyfile(f, os.path.join(os.path.join(os.path.abspath(\"pytorch-image-models/mured/\"), i), filename))\n",
    "            # for i in row[row == 1].index:\n",
    "            #     # print(f)\n",
    "            #     # print(os.path.join(os.path.join(os.path.abspath(\"pytorch-image-models/mured/\"), i), filename))\n",
    "            #     shutil.copyfile(f, os.path.join(os.path.join(os.path.abspath(\"pytorch-image-models/mured/\"), i), filename))\n"
   ]
  }
 ],
 "metadata": {
  "kernelspec": {
   "display_name": "Python 3 (ipykernel)",
   "language": "python",
   "name": "python3"
  },
  "language_info": {
   "codemirror_mode": {
    "name": "ipython",
    "version": 3
   },
   "file_extension": ".py",
   "mimetype": "text/x-python",
   "name": "python",
   "nbconvert_exporter": "python",
   "pygments_lexer": "ipython3",
   "version": "3.10.6"
  }
 },
 "nbformat": 4,
 "nbformat_minor": 5
}
